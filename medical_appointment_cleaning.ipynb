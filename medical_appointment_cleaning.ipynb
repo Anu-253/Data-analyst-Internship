{
  "nbformat": 4,
  "nbformat_minor": 0,
  "metadata": {
    "colab": {
      "provenance": []
    },
    "kernelspec": {
      "name": "python3",
      "display_name": "Python 3"
    },
    "language_info": {
      "name": "python"
    }
  },
  "cells": [
    {
      "cell_type": "code",
      "execution_count": 1,
      "metadata": {
        "id": "LKj919wlVMkP"
      },
      "outputs": [],
      "source": [
        "# Cell 1: Import libraries\n",
        "import pandas as pd\n",
        "import matplotlib.pyplot as plt\n"
      ]
    },
    {
      "cell_type": "code",
      "source": [
        "# Cell 2: Load dataset\n",
        "raw_df = pd.read_csv(\"KaggleV2-May-2016.csv.zip\")\n",
        "\n",
        "# Make a copy for cleaning\n",
        "df = raw_df.copy()\n",
        "df.head()\n"
      ],
      "metadata": {
        "colab": {
          "base_uri": "https://localhost:8080/",
          "height": 330
        },
        "id": "388IUUjbVXko",
        "outputId": "052e9053-7eae-4b3b-c07b-964e7d106970"
      },
      "execution_count": 2,
      "outputs": [
        {
          "output_type": "execute_result",
          "data": {
            "text/plain": [
              "      PatientId  AppointmentID Gender          ScheduledDay  \\\n",
              "0  2.987250e+13        5642903      F  2016-04-29T18:38:08Z   \n",
              "1  5.589978e+14        5642503      M  2016-04-29T16:08:27Z   \n",
              "2  4.262962e+12        5642549      F  2016-04-29T16:19:04Z   \n",
              "3  8.679512e+11        5642828      F  2016-04-29T17:29:31Z   \n",
              "4  8.841186e+12        5642494      F  2016-04-29T16:07:23Z   \n",
              "\n",
              "         AppointmentDay  Age      Neighbourhood  Scholarship  Hipertension  \\\n",
              "0  2016-04-29T00:00:00Z   62    JARDIM DA PENHA            0             1   \n",
              "1  2016-04-29T00:00:00Z   56    JARDIM DA PENHA            0             0   \n",
              "2  2016-04-29T00:00:00Z   62      MATA DA PRAIA            0             0   \n",
              "3  2016-04-29T00:00:00Z    8  PONTAL DE CAMBURI            0             0   \n",
              "4  2016-04-29T00:00:00Z   56    JARDIM DA PENHA            0             1   \n",
              "\n",
              "   Diabetes  Alcoholism  Handcap  SMS_received No-show  \n",
              "0         0           0        0             0      No  \n",
              "1         0           0        0             0      No  \n",
              "2         0           0        0             0      No  \n",
              "3         0           0        0             0      No  \n",
              "4         1           0        0             0      No  "
            ],
            "text/html": [
              "\n",
              "  <div id=\"df-5619b034-e0d4-42fe-9c06-8374b1de1a48\" class=\"colab-df-container\">\n",
              "    <div>\n",
              "<style scoped>\n",
              "    .dataframe tbody tr th:only-of-type {\n",
              "        vertical-align: middle;\n",
              "    }\n",
              "\n",
              "    .dataframe tbody tr th {\n",
              "        vertical-align: top;\n",
              "    }\n",
              "\n",
              "    .dataframe thead th {\n",
              "        text-align: right;\n",
              "    }\n",
              "</style>\n",
              "<table border=\"1\" class=\"dataframe\">\n",
              "  <thead>\n",
              "    <tr style=\"text-align: right;\">\n",
              "      <th></th>\n",
              "      <th>PatientId</th>\n",
              "      <th>AppointmentID</th>\n",
              "      <th>Gender</th>\n",
              "      <th>ScheduledDay</th>\n",
              "      <th>AppointmentDay</th>\n",
              "      <th>Age</th>\n",
              "      <th>Neighbourhood</th>\n",
              "      <th>Scholarship</th>\n",
              "      <th>Hipertension</th>\n",
              "      <th>Diabetes</th>\n",
              "      <th>Alcoholism</th>\n",
              "      <th>Handcap</th>\n",
              "      <th>SMS_received</th>\n",
              "      <th>No-show</th>\n",
              "    </tr>\n",
              "  </thead>\n",
              "  <tbody>\n",
              "    <tr>\n",
              "      <th>0</th>\n",
              "      <td>2.987250e+13</td>\n",
              "      <td>5642903</td>\n",
              "      <td>F</td>\n",
              "      <td>2016-04-29T18:38:08Z</td>\n",
              "      <td>2016-04-29T00:00:00Z</td>\n",
              "      <td>62</td>\n",
              "      <td>JARDIM DA PENHA</td>\n",
              "      <td>0</td>\n",
              "      <td>1</td>\n",
              "      <td>0</td>\n",
              "      <td>0</td>\n",
              "      <td>0</td>\n",
              "      <td>0</td>\n",
              "      <td>No</td>\n",
              "    </tr>\n",
              "    <tr>\n",
              "      <th>1</th>\n",
              "      <td>5.589978e+14</td>\n",
              "      <td>5642503</td>\n",
              "      <td>M</td>\n",
              "      <td>2016-04-29T16:08:27Z</td>\n",
              "      <td>2016-04-29T00:00:00Z</td>\n",
              "      <td>56</td>\n",
              "      <td>JARDIM DA PENHA</td>\n",
              "      <td>0</td>\n",
              "      <td>0</td>\n",
              "      <td>0</td>\n",
              "      <td>0</td>\n",
              "      <td>0</td>\n",
              "      <td>0</td>\n",
              "      <td>No</td>\n",
              "    </tr>\n",
              "    <tr>\n",
              "      <th>2</th>\n",
              "      <td>4.262962e+12</td>\n",
              "      <td>5642549</td>\n",
              "      <td>F</td>\n",
              "      <td>2016-04-29T16:19:04Z</td>\n",
              "      <td>2016-04-29T00:00:00Z</td>\n",
              "      <td>62</td>\n",
              "      <td>MATA DA PRAIA</td>\n",
              "      <td>0</td>\n",
              "      <td>0</td>\n",
              "      <td>0</td>\n",
              "      <td>0</td>\n",
              "      <td>0</td>\n",
              "      <td>0</td>\n",
              "      <td>No</td>\n",
              "    </tr>\n",
              "    <tr>\n",
              "      <th>3</th>\n",
              "      <td>8.679512e+11</td>\n",
              "      <td>5642828</td>\n",
              "      <td>F</td>\n",
              "      <td>2016-04-29T17:29:31Z</td>\n",
              "      <td>2016-04-29T00:00:00Z</td>\n",
              "      <td>8</td>\n",
              "      <td>PONTAL DE CAMBURI</td>\n",
              "      <td>0</td>\n",
              "      <td>0</td>\n",
              "      <td>0</td>\n",
              "      <td>0</td>\n",
              "      <td>0</td>\n",
              "      <td>0</td>\n",
              "      <td>No</td>\n",
              "    </tr>\n",
              "    <tr>\n",
              "      <th>4</th>\n",
              "      <td>8.841186e+12</td>\n",
              "      <td>5642494</td>\n",
              "      <td>F</td>\n",
              "      <td>2016-04-29T16:07:23Z</td>\n",
              "      <td>2016-04-29T00:00:00Z</td>\n",
              "      <td>56</td>\n",
              "      <td>JARDIM DA PENHA</td>\n",
              "      <td>0</td>\n",
              "      <td>1</td>\n",
              "      <td>1</td>\n",
              "      <td>0</td>\n",
              "      <td>0</td>\n",
              "      <td>0</td>\n",
              "      <td>No</td>\n",
              "    </tr>\n",
              "  </tbody>\n",
              "</table>\n",
              "</div>\n",
              "    <div class=\"colab-df-buttons\">\n",
              "\n",
              "  <div class=\"colab-df-container\">\n",
              "    <button class=\"colab-df-convert\" onclick=\"convertToInteractive('df-5619b034-e0d4-42fe-9c06-8374b1de1a48')\"\n",
              "            title=\"Convert this dataframe to an interactive table.\"\n",
              "            style=\"display:none;\">\n",
              "\n",
              "  <svg xmlns=\"http://www.w3.org/2000/svg\" height=\"24px\" viewBox=\"0 -960 960 960\">\n",
              "    <path d=\"M120-120v-720h720v720H120Zm60-500h600v-160H180v160Zm220 220h160v-160H400v160Zm0 220h160v-160H400v160ZM180-400h160v-160H180v160Zm440 0h160v-160H620v160ZM180-180h160v-160H180v160Zm440 0h160v-160H620v160Z\"/>\n",
              "  </svg>\n",
              "    </button>\n",
              "\n",
              "  <style>\n",
              "    .colab-df-container {\n",
              "      display:flex;\n",
              "      gap: 12px;\n",
              "    }\n",
              "\n",
              "    .colab-df-convert {\n",
              "      background-color: #E8F0FE;\n",
              "      border: none;\n",
              "      border-radius: 50%;\n",
              "      cursor: pointer;\n",
              "      display: none;\n",
              "      fill: #1967D2;\n",
              "      height: 32px;\n",
              "      padding: 0 0 0 0;\n",
              "      width: 32px;\n",
              "    }\n",
              "\n",
              "    .colab-df-convert:hover {\n",
              "      background-color: #E2EBFA;\n",
              "      box-shadow: 0px 1px 2px rgba(60, 64, 67, 0.3), 0px 1px 3px 1px rgba(60, 64, 67, 0.15);\n",
              "      fill: #174EA6;\n",
              "    }\n",
              "\n",
              "    .colab-df-buttons div {\n",
              "      margin-bottom: 4px;\n",
              "    }\n",
              "\n",
              "    [theme=dark] .colab-df-convert {\n",
              "      background-color: #3B4455;\n",
              "      fill: #D2E3FC;\n",
              "    }\n",
              "\n",
              "    [theme=dark] .colab-df-convert:hover {\n",
              "      background-color: #434B5C;\n",
              "      box-shadow: 0px 1px 3px 1px rgba(0, 0, 0, 0.15);\n",
              "      filter: drop-shadow(0px 1px 2px rgba(0, 0, 0, 0.3));\n",
              "      fill: #FFFFFF;\n",
              "    }\n",
              "  </style>\n",
              "\n",
              "    <script>\n",
              "      const buttonEl =\n",
              "        document.querySelector('#df-5619b034-e0d4-42fe-9c06-8374b1de1a48 button.colab-df-convert');\n",
              "      buttonEl.style.display =\n",
              "        google.colab.kernel.accessAllowed ? 'block' : 'none';\n",
              "\n",
              "      async function convertToInteractive(key) {\n",
              "        const element = document.querySelector('#df-5619b034-e0d4-42fe-9c06-8374b1de1a48');\n",
              "        const dataTable =\n",
              "          await google.colab.kernel.invokeFunction('convertToInteractive',\n",
              "                                                    [key], {});\n",
              "        if (!dataTable) return;\n",
              "\n",
              "        const docLinkHtml = 'Like what you see? Visit the ' +\n",
              "          '<a target=\"_blank\" href=https://colab.research.google.com/notebooks/data_table.ipynb>data table notebook</a>'\n",
              "          + ' to learn more about interactive tables.';\n",
              "        element.innerHTML = '';\n",
              "        dataTable['output_type'] = 'display_data';\n",
              "        await google.colab.output.renderOutput(dataTable, element);\n",
              "        const docLink = document.createElement('div');\n",
              "        docLink.innerHTML = docLinkHtml;\n",
              "        element.appendChild(docLink);\n",
              "      }\n",
              "    </script>\n",
              "  </div>\n",
              "\n",
              "\n",
              "    <div id=\"df-f087a78c-3160-4b77-a0ce-1cc4479e3327\">\n",
              "      <button class=\"colab-df-quickchart\" onclick=\"quickchart('df-f087a78c-3160-4b77-a0ce-1cc4479e3327')\"\n",
              "                title=\"Suggest charts\"\n",
              "                style=\"display:none;\">\n",
              "\n",
              "<svg xmlns=\"http://www.w3.org/2000/svg\" height=\"24px\"viewBox=\"0 0 24 24\"\n",
              "     width=\"24px\">\n",
              "    <g>\n",
              "        <path d=\"M19 3H5c-1.1 0-2 .9-2 2v14c0 1.1.9 2 2 2h14c1.1 0 2-.9 2-2V5c0-1.1-.9-2-2-2zM9 17H7v-7h2v7zm4 0h-2V7h2v10zm4 0h-2v-4h2v4z\"/>\n",
              "    </g>\n",
              "</svg>\n",
              "      </button>\n",
              "\n",
              "<style>\n",
              "  .colab-df-quickchart {\n",
              "      --bg-color: #E8F0FE;\n",
              "      --fill-color: #1967D2;\n",
              "      --hover-bg-color: #E2EBFA;\n",
              "      --hover-fill-color: #174EA6;\n",
              "      --disabled-fill-color: #AAA;\n",
              "      --disabled-bg-color: #DDD;\n",
              "  }\n",
              "\n",
              "  [theme=dark] .colab-df-quickchart {\n",
              "      --bg-color: #3B4455;\n",
              "      --fill-color: #D2E3FC;\n",
              "      --hover-bg-color: #434B5C;\n",
              "      --hover-fill-color: #FFFFFF;\n",
              "      --disabled-bg-color: #3B4455;\n",
              "      --disabled-fill-color: #666;\n",
              "  }\n",
              "\n",
              "  .colab-df-quickchart {\n",
              "    background-color: var(--bg-color);\n",
              "    border: none;\n",
              "    border-radius: 50%;\n",
              "    cursor: pointer;\n",
              "    display: none;\n",
              "    fill: var(--fill-color);\n",
              "    height: 32px;\n",
              "    padding: 0;\n",
              "    width: 32px;\n",
              "  }\n",
              "\n",
              "  .colab-df-quickchart:hover {\n",
              "    background-color: var(--hover-bg-color);\n",
              "    box-shadow: 0 1px 2px rgba(60, 64, 67, 0.3), 0 1px 3px 1px rgba(60, 64, 67, 0.15);\n",
              "    fill: var(--button-hover-fill-color);\n",
              "  }\n",
              "\n",
              "  .colab-df-quickchart-complete:disabled,\n",
              "  .colab-df-quickchart-complete:disabled:hover {\n",
              "    background-color: var(--disabled-bg-color);\n",
              "    fill: var(--disabled-fill-color);\n",
              "    box-shadow: none;\n",
              "  }\n",
              "\n",
              "  .colab-df-spinner {\n",
              "    border: 2px solid var(--fill-color);\n",
              "    border-color: transparent;\n",
              "    border-bottom-color: var(--fill-color);\n",
              "    animation:\n",
              "      spin 1s steps(1) infinite;\n",
              "  }\n",
              "\n",
              "  @keyframes spin {\n",
              "    0% {\n",
              "      border-color: transparent;\n",
              "      border-bottom-color: var(--fill-color);\n",
              "      border-left-color: var(--fill-color);\n",
              "    }\n",
              "    20% {\n",
              "      border-color: transparent;\n",
              "      border-left-color: var(--fill-color);\n",
              "      border-top-color: var(--fill-color);\n",
              "    }\n",
              "    30% {\n",
              "      border-color: transparent;\n",
              "      border-left-color: var(--fill-color);\n",
              "      border-top-color: var(--fill-color);\n",
              "      border-right-color: var(--fill-color);\n",
              "    }\n",
              "    40% {\n",
              "      border-color: transparent;\n",
              "      border-right-color: var(--fill-color);\n",
              "      border-top-color: var(--fill-color);\n",
              "    }\n",
              "    60% {\n",
              "      border-color: transparent;\n",
              "      border-right-color: var(--fill-color);\n",
              "    }\n",
              "    80% {\n",
              "      border-color: transparent;\n",
              "      border-right-color: var(--fill-color);\n",
              "      border-bottom-color: var(--fill-color);\n",
              "    }\n",
              "    90% {\n",
              "      border-color: transparent;\n",
              "      border-bottom-color: var(--fill-color);\n",
              "    }\n",
              "  }\n",
              "</style>\n",
              "\n",
              "      <script>\n",
              "        async function quickchart(key) {\n",
              "          const quickchartButtonEl =\n",
              "            document.querySelector('#' + key + ' button');\n",
              "          quickchartButtonEl.disabled = true;  // To prevent multiple clicks.\n",
              "          quickchartButtonEl.classList.add('colab-df-spinner');\n",
              "          try {\n",
              "            const charts = await google.colab.kernel.invokeFunction(\n",
              "                'suggestCharts', [key], {});\n",
              "          } catch (error) {\n",
              "            console.error('Error during call to suggestCharts:', error);\n",
              "          }\n",
              "          quickchartButtonEl.classList.remove('colab-df-spinner');\n",
              "          quickchartButtonEl.classList.add('colab-df-quickchart-complete');\n",
              "        }\n",
              "        (() => {\n",
              "          let quickchartButtonEl =\n",
              "            document.querySelector('#df-f087a78c-3160-4b77-a0ce-1cc4479e3327 button');\n",
              "          quickchartButtonEl.style.display =\n",
              "            google.colab.kernel.accessAllowed ? 'block' : 'none';\n",
              "        })();\n",
              "      </script>\n",
              "    </div>\n",
              "\n",
              "    </div>\n",
              "  </div>\n"
            ],
            "application/vnd.google.colaboratory.intrinsic+json": {
              "type": "dataframe",
              "variable_name": "df"
            }
          },
          "metadata": {},
          "execution_count": 2
        }
      ]
    },
    {
      "cell_type": "code",
      "source": [
        "# Cell 3: Check for missing values\n",
        "print(\"Missing values before cleaning:\\n\", df.isnull().sum())\n"
      ],
      "metadata": {
        "colab": {
          "base_uri": "https://localhost:8080/"
        },
        "id": "4rbVrn4wVfDV",
        "outputId": "e5e7e18e-c247-4987-90df-a6518e9b6bba"
      },
      "execution_count": 3,
      "outputs": [
        {
          "output_type": "stream",
          "name": "stdout",
          "text": [
            "Missing values before cleaning:\n",
            " PatientId         0\n",
            "AppointmentID     0\n",
            "Gender            0\n",
            "ScheduledDay      0\n",
            "AppointmentDay    0\n",
            "Age               0\n",
            "Neighbourhood     0\n",
            "Scholarship       0\n",
            "Hipertension      0\n",
            "Diabetes          0\n",
            "Alcoholism        0\n",
            "Handcap           0\n",
            "SMS_received      0\n",
            "No-show           0\n",
            "dtype: int64\n"
          ]
        }
      ]
    },
    {
      "cell_type": "code",
      "source": [
        "# Cell 4: Handle missing values\n",
        "# Drop rows only if critical info is missing\n",
        "df = df.dropna(subset=['ScheduledDay', 'AppointmentDay', 'Age', 'Gender'])\n"
      ],
      "metadata": {
        "id": "kgbvJFTbVkjS"
      },
      "execution_count": 4,
      "outputs": []
    },
    {
      "cell_type": "code",
      "source": [
        "# Cell 5: Remove duplicate rows\n",
        "df = df.drop_duplicates()\n"
      ],
      "metadata": {
        "id": "HBdLPf6GVoZ1"
      },
      "execution_count": 5,
      "outputs": []
    },
    {
      "cell_type": "code",
      "source": [
        "# Cell 6: Standardize text columns\n",
        "# Gender\n",
        "df['Gender'] = df['Gender'].str.upper().str.strip()\n",
        "df['Gender'] = df['Gender'].map({'F': 'Female', 'M': 'Male'})\n",
        "\n",
        "# Neighbourhood\n",
        "df['Neighbourhood'] = df['Neighbourhood'].str.title().str.strip()\n"
      ],
      "metadata": {
        "id": "4viGVLmLVsHW"
      },
      "execution_count": 6,
      "outputs": []
    },
    {
      "cell_type": "code",
      "source": [
        "# Cell 7: Convert date columns and create new feature\n",
        "df['ScheduledDay'] = pd.to_datetime(df['ScheduledDay'])\n",
        "df['AppointmentDay'] = pd.to_datetime(df['AppointmentDay'])\n",
        "\n",
        "# Create waiting days feature\n",
        "df['WaitingDays'] = (df['AppointmentDay'] - df['ScheduledDay']).dt.days\n",
        "\n",
        "# Remove invalid waiting days (negative values)\n",
        "df = df[df['WaitingDays'] >= 0]\n"
      ],
      "metadata": {
        "id": "qi30bmZIVu4u"
      },
      "execution_count": 7,
      "outputs": []
    },
    {
      "cell_type": "code",
      "source": [
        "# Cell 8: Clean age column\n",
        "df = df[(df['Age'] >= 0) & (df['Age'] <= 115)]\n"
      ],
      "metadata": {
        "id": "HumqmCyzVxZn"
      },
      "execution_count": 8,
      "outputs": []
    },
    {
      "cell_type": "code",
      "source": [
        "# Cell 9: Clean column names\n",
        "df.rename(columns=lambda x: x.strip().lower().replace(\" \", \"_\"), inplace=True)\n",
        "df.rename(columns={'no-show': 'no_show'}, inplace=True)\n"
      ],
      "metadata": {
        "id": "LhmaKe-2Vzr-"
      },
      "execution_count": 9,
      "outputs": []
    },
    {
      "cell_type": "code",
      "source": [
        "# Cell 10: Save and download cleaned dataset\n",
        "df.to_csv(\"cleaned_medical_appointments.csv\", index=False)\n",
        "\n",
        "from google.colab import files\n",
        "files.download(\"cleaned_medical_appointments.csv\")\n",
        "\n",
        "print(\" Cleaning complete! Cleaned dataset saved and downloaded as 'cleaned_medical_appointments.csv'.\")\n",
        "\n"
      ],
      "metadata": {
        "colab": {
          "base_uri": "https://localhost:8080/",
          "height": 34
        },
        "id": "hCjb-H_yV2gr",
        "outputId": "e224e8c2-a852-4d67-f36e-1b6e0d755d40"
      },
      "execution_count": 13,
      "outputs": [
        {
          "output_type": "display_data",
          "data": {
            "text/plain": [
              "<IPython.core.display.Javascript object>"
            ],
            "application/javascript": [
              "\n",
              "    async function download(id, filename, size) {\n",
              "      if (!google.colab.kernel.accessAllowed) {\n",
              "        return;\n",
              "      }\n",
              "      const div = document.createElement('div');\n",
              "      const label = document.createElement('label');\n",
              "      label.textContent = `Downloading \"${filename}\": `;\n",
              "      div.appendChild(label);\n",
              "      const progress = document.createElement('progress');\n",
              "      progress.max = size;\n",
              "      div.appendChild(progress);\n",
              "      document.body.appendChild(div);\n",
              "\n",
              "      const buffers = [];\n",
              "      let downloaded = 0;\n",
              "\n",
              "      const channel = await google.colab.kernel.comms.open(id);\n",
              "      // Send a message to notify the kernel that we're ready.\n",
              "      channel.send({})\n",
              "\n",
              "      for await (const message of channel.messages) {\n",
              "        // Send a message to notify the kernel that we're ready.\n",
              "        channel.send({})\n",
              "        if (message.buffers) {\n",
              "          for (const buffer of message.buffers) {\n",
              "            buffers.push(buffer);\n",
              "            downloaded += buffer.byteLength;\n",
              "            progress.value = downloaded;\n",
              "          }\n",
              "        }\n",
              "      }\n",
              "      const blob = new Blob(buffers, {type: 'application/binary'});\n",
              "      const a = document.createElement('a');\n",
              "      a.href = window.URL.createObjectURL(blob);\n",
              "      a.download = filename;\n",
              "      div.appendChild(a);\n",
              "      a.click();\n",
              "      div.remove();\n",
              "    }\n",
              "  "
            ]
          },
          "metadata": {}
        },
        {
          "output_type": "display_data",
          "data": {
            "text/plain": [
              "<IPython.core.display.Javascript object>"
            ],
            "application/javascript": [
              "download(\"download_28f70196-24f1-4259-9be9-26ce30b65804\", \"cleaned_medical_appointments.csv\", 8353088)"
            ]
          },
          "metadata": {}
        },
        {
          "output_type": "stream",
          "name": "stdout",
          "text": [
            " Cleaning complete! Cleaned dataset saved and downloaded as 'cleaned_medical_appointments.csv'.\n"
          ]
        }
      ]
    },
    {
      "cell_type": "code",
      "source": [
        "# Cell 11: Compare raw vs cleaned dataset (missing values)\n",
        "clean_df = pd.read_csv(\"cleaned_medical_appointments.csv\")\n",
        "\n",
        "# Missing values check\n",
        "raw_missing = raw_df.isnull().sum()\n",
        "clean_missing = clean_df.isnull().sum()\n",
        "\n",
        "missing_df = pd.DataFrame({\n",
        "    \"Before Cleaning\": raw_missing,\n",
        "    \"After Cleaning\": clean_missing\n",
        "})\n",
        "\n",
        "# Plot comparison\n",
        "ax = missing_df.plot(kind='bar', figsize=(12,5), color=['red', 'green'])\n",
        "plt.title(\"Missing Values: Before vs After Cleaning\", fontsize=14)\n",
        "plt.ylabel(\"Count\", fontsize=12)\n",
        "plt.xlabel(\"Columns\", fontsize=12)\n",
        "plt.xticks(rotation=45, ha='right')\n",
        "plt.grid(axis='y', linestyle='--', alpha=0.7)\n",
        "plt.tight_layout()\n",
        "plt.show()\n"
      ],
      "metadata": {
        "colab": {
          "base_uri": "https://localhost:8080/",
          "height": 354
        },
        "id": "MIBGuhKUV5l2",
        "outputId": "d44ff9ff-3e0d-4776-d72f-7272bd03dc88"
      },
      "execution_count": 14,
      "outputs": [
        {
          "output_type": "display_data",
          "data": {
            "text/plain": [
              "<Figure size 1200x500 with 1 Axes>"
            ],
            "image/png": "[encoded data removed]"
          },
          "metadata": {}
        }
      ]
    },
    {
      "cell_type": "markdown",
      "source": [
        "We can see a significant drop in missing values after cleaning, making the dataset much cleaner and ready for analysis."
      ],
      "metadata": {
        "id": "tJ4aSkfGWqoE"
      }
    },
    {
      "cell_type": "code",
      "source": [
        "print(\"Raw dataset shape:\", raw_df.shape)\n",
        "print(\"Cleaned dataset shape:\", df.shape)\n"
      ],
      "metadata": {
        "colab": {
          "base_uri": "https://localhost:8080/"
        },
        "id": "36YcY6RuWWr5",
        "outputId": "1e8a58ad-4ebe-4698-c108-91feb00dee22"
      },
      "execution_count": 15,
      "outputs": [
        {
          "output_type": "stream",
          "name": "stdout",
          "text": [
            "Raw dataset shape: (110527, 14)\n",
            "Cleaned dataset shape: (71959, 15)\n"
          ]
        }
      ]
    },
    {
      "cell_type": "markdown",
      "source": [
        "Basic dataset shape comparison:\n",
        "Show how many rows/columns you had before vs after cleaning."
      ],
      "metadata": {
        "id": "vbA1LhKYWxqG"
      }
    },
    {
      "cell_type": "code",
      "source": [
        "print(\"\\nQuick Stats After Cleaning:\")\n",
        "print(df[['age', 'gender', 'waitingdays']].describe(include='all'))\n"
      ],
      "metadata": {
        "colab": {
          "base_uri": "https://localhost:8080/"
        },
        "id": "2rK8Qj7iWkqj",
        "outputId": "c89c40ee-8386-4a8d-a1d7-ab43d9d8f7c6"
      },
      "execution_count": 16,
      "outputs": [
        {
          "output_type": "stream",
          "name": "stdout",
          "text": [
            "\n",
            "Quick Stats After Cleaning:\n",
            "                 age  gender   waitingdays\n",
            "count   71959.000000   71959  71959.000000\n",
            "unique           NaN       2           NaN\n",
            "top              NaN  Female           NaN\n",
            "freq             NaN   48070           NaN\n",
            "mean       38.502564     NaN     14.642018\n",
            "std        22.925421     NaN     16.494334\n",
            "min         0.000000     NaN      0.000000\n",
            "25%        19.000000     NaN      3.000000\n",
            "50%        39.000000     NaN      8.000000\n",
            "75%        57.000000     NaN     21.000000\n",
            "max       115.000000     NaN    178.000000\n"
          ]
        }
      ]
    },
    {
      "cell_type": "code",
      "source": [
        "# Cell 13: Print summary of cleaning steps\n",
        "summary = \"\"\"\n",
        " Data Cleaning Summary\n",
        "------------------------\n",
        "1. Removed missing values from critical columns (ScheduledDay, AppointmentDay, Age, Gender).\n",
        "2. Removed duplicate rows.\n",
        "3. Standardized text:\n",
        "   - Gender → converted to 'Female' and 'Male'\n",
        "   - Neighbourhood → formatted to Title Case\n",
        "4. Converted ScheduledDay & AppointmentDay to datetime format.\n",
        "5. Created new feature 'WaitingDays' (days between scheduling and appointment).\n",
        "6. Removed rows with invalid waiting days (negative values).\n",
        "7. Removed invalid ages (less than 0 or greater than 115).\n",
        "8. Renamed all column names to lowercase with underscores (e.g., 'No-show' → 'no_show').\n",
        "9. Exported cleaned dataset as 'cleaned_medical_appointments.csv'.\n",
        "\"\"\"\n",
        "\n",
        "print(summary)\n"
      ],
      "metadata": {
        "colab": {
          "base_uri": "https://localhost:8080/"
        },
        "id": "Fl8VibZKW6X1",
        "outputId": "67da2905-586c-48c9-b7f8-1293f795fa9b"
      },
      "execution_count": 18,
      "outputs": [
        {
          "output_type": "stream",
          "name": "stdout",
          "text": [
            "\n",
            " Data Cleaning Summary\n",
            "------------------------\n",
            "1. Removed missing values from critical columns (ScheduledDay, AppointmentDay, Age, Gender).\n",
            "2. Removed duplicate rows.\n",
            "3. Standardized text:\n",
            "   - Gender → converted to 'Female' and 'Male'\n",
            "   - Neighbourhood → formatted to Title Case\n",
            "4. Converted ScheduledDay & AppointmentDay to datetime format.\n",
            "5. Created new feature 'WaitingDays' (days between scheduling and appointment).\n",
            "6. Removed rows with invalid waiting days (negative values).\n",
            "7. Removed invalid ages (less than 0 or greater than 115).\n",
            "8. Renamed all column names to lowercase with underscores (e.g., 'No-show' → 'no_show').\n",
            "9. Exported cleaned dataset as 'cleaned_medical_appointments.csv'.\n",
            "\n"
          ]
        }
      ]
    },
    {
      "cell_type": "code",
      "source": [],
      "metadata": {
        "id": "fvtPJPHHXdSY"
      },
      "execution_count": null,
      "outputs": []
    }
  ]
}